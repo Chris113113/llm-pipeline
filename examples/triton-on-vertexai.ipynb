{
 "cells": [
  {
   "cell_type": "code",
   "execution_count": null,
   "metadata": {},
   "outputs": [],
   "source": [
    "%pip install google-cloud-aiplatform --upgrade"
   ]
  },
  {
   "cell_type": "code",
   "execution_count": 4,
   "metadata": {},
   "outputs": [
    {
     "name": "stdout",
     "output_type": "stream",
     "text": [
      "us-central1\n"
     ]
    }
   ],
   "source": [
    "from google.cloud import aiplatform\n",
    "\n",
    "import json\n",
    "f = open('gcloud_configuration.json')\n",
    "  \n",
    "# returns JSON object as \n",
    "# a dictionary\n",
    "data = json.load(f)\n",
    "\n",
    "aiplatform.init(\n",
    "    # your Google Cloud Project ID or number\n",
    "    # environment default used is not set\n",
    "    project=data[\"project\"],\n",
    "\n",
    "    # the Vertex AI region you will use\n",
    "    # defaults to us-central1\n",
    "    location=data[\"location\"],\n",
    "\n",
    "    # Google Cloud Storage bucket in same region as location\n",
    "    # used to stage artifacts\n",
    "    staging_bucket=data[\"staging_bucket\"]\n",
    ")"
   ]
  },
  {
   "cell_type": "code",
   "execution_count": 6,
   "metadata": {},
   "outputs": [
    {
     "ename": "ValueError",
     "evalue": "Resource /projects/237939871711/locations/us-central1/endpoints/1566746894976155648 is not a valid resource id.",
     "output_type": "error",
     "traceback": [
      "\u001b[0;31m---------------------------------------------------------------------------\u001b[0m",
      "\u001b[0;31mValueError\u001b[0m                                Traceback (most recent call last)",
      "Cell \u001b[0;32mIn[6], line 1\u001b[0m\n\u001b[0;32m----> 1\u001b[0m endpoint \u001b[39m=\u001b[39m aiplatform\u001b[39m.\u001b[39;49mEndpoint(\u001b[39mf\u001b[39;49m\u001b[39m'\u001b[39;49m\u001b[39m/projects/\u001b[39;49m\u001b[39m{\u001b[39;49;00mdata[\u001b[39m\"\u001b[39;49m\u001b[39mproject\u001b[39;49m\u001b[39m\"\u001b[39;49m]\u001b[39m}\u001b[39;49;00m\u001b[39m/locations/\u001b[39;49m\u001b[39m{\u001b[39;49;00mdata[\u001b[39m\"\u001b[39;49m\u001b[39mlocation\u001b[39;49m\u001b[39m\"\u001b[39;49m]\u001b[39m}\u001b[39;49;00m\u001b[39m/endpoints/\u001b[39;49m\u001b[39m{\u001b[39;49;00mdata[\u001b[39m\"\u001b[39;49m\u001b[39mendpoint_id\u001b[39;49m\u001b[39m\"\u001b[39;49m]\u001b[39m}\u001b[39;49;00m\u001b[39m'\u001b[39;49m)\n\u001b[1;32m      3\u001b[0m endpoint\u001b[39m.\u001b[39mraw_predict(\u001b[39mbytes\u001b[39m(data[\u001b[39m\"\u001b[39m\u001b[39msample_request\u001b[39m\u001b[39m\"\u001b[39m], \u001b[39m'\u001b[39m\u001b[39mutf-8\u001b[39m\u001b[39m'\u001b[39m))\n",
      "File \u001b[0;32m~/Library/Python/3.9/lib/python/site-packages/google/cloud/aiplatform/models.py:199\u001b[0m, in \u001b[0;36mEndpoint.__init__\u001b[0;34m(self, endpoint_name, project, location, credentials)\u001b[0m\n\u001b[1;32m    174\u001b[0m \u001b[39m\u001b[39m\u001b[39m\"\"\"Retrieves an endpoint resource.\u001b[39;00m\n\u001b[1;32m    175\u001b[0m \n\u001b[1;32m    176\u001b[0m \u001b[39mArgs:\u001b[39;00m\n\u001b[0;32m   (...)\u001b[0m\n\u001b[1;32m    189\u001b[0m \u001b[39m        credentials set in aiplatform.init.\u001b[39;00m\n\u001b[1;32m    190\u001b[0m \u001b[39m\"\"\"\u001b[39;00m\n\u001b[1;32m    192\u001b[0m \u001b[39msuper\u001b[39m()\u001b[39m.\u001b[39m\u001b[39m__init__\u001b[39m(\n\u001b[1;32m    193\u001b[0m     project\u001b[39m=\u001b[39mproject,\n\u001b[1;32m    194\u001b[0m     location\u001b[39m=\u001b[39mlocation,\n\u001b[1;32m    195\u001b[0m     credentials\u001b[39m=\u001b[39mcredentials,\n\u001b[1;32m    196\u001b[0m     resource_name\u001b[39m=\u001b[39mendpoint_name,\n\u001b[1;32m    197\u001b[0m )\n\u001b[0;32m--> 199\u001b[0m endpoint_name \u001b[39m=\u001b[39m utils\u001b[39m.\u001b[39;49mfull_resource_name(\n\u001b[1;32m    200\u001b[0m     resource_name\u001b[39m=\u001b[39;49mendpoint_name,\n\u001b[1;32m    201\u001b[0m     resource_noun\u001b[39m=\u001b[39;49m\u001b[39m\"\u001b[39;49m\u001b[39mendpoints\u001b[39;49m\u001b[39m\"\u001b[39;49m,\n\u001b[1;32m    202\u001b[0m     parse_resource_name_method\u001b[39m=\u001b[39;49m\u001b[39mself\u001b[39;49m\u001b[39m.\u001b[39;49m_parse_resource_name,\n\u001b[1;32m    203\u001b[0m     format_resource_name_method\u001b[39m=\u001b[39;49m\u001b[39mself\u001b[39;49m\u001b[39m.\u001b[39;49m_format_resource_name,\n\u001b[1;32m    204\u001b[0m     project\u001b[39m=\u001b[39;49mproject,\n\u001b[1;32m    205\u001b[0m     location\u001b[39m=\u001b[39;49mlocation,\n\u001b[1;32m    206\u001b[0m )\n\u001b[1;32m    208\u001b[0m \u001b[39m# Lazy load the Endpoint gca_resource until needed\u001b[39;00m\n\u001b[1;32m    209\u001b[0m \u001b[39mself\u001b[39m\u001b[39m.\u001b[39m_gca_resource \u001b[39m=\u001b[39m gca_endpoint_compat\u001b[39m.\u001b[39mEndpoint(name\u001b[39m=\u001b[39mendpoint_name)\n",
      "File \u001b[0;32m~/Library/Python/3.9/lib/python/site-packages/google/cloud/aiplatform/utils/__init__.py:179\u001b[0m, in \u001b[0;36mfull_resource_name\u001b[0;34m(resource_name, resource_noun, parse_resource_name_method, format_resource_name_method, parent_resource_name_fields, project, location, resource_id_validator)\u001b[0m\n\u001b[1;32m    176\u001b[0m user_location \u001b[39m=\u001b[39m location \u001b[39mor\u001b[39;00m initializer\u001b[39m.\u001b[39mglobal_config\u001b[39m.\u001b[39mlocation\n\u001b[1;32m    178\u001b[0m validate_region(user_location)\n\u001b[0;32m--> 179\u001b[0m resource_id_validator(resource_name)\n\u001b[1;32m    181\u001b[0m format_args \u001b[39m=\u001b[39m {\n\u001b[1;32m    182\u001b[0m     \u001b[39m\"\u001b[39m\u001b[39mlocation\u001b[39m\u001b[39m\"\u001b[39m: user_location,\n\u001b[1;32m    183\u001b[0m     \u001b[39m\"\u001b[39m\u001b[39mproject\u001b[39m\u001b[39m\"\u001b[39m: user_project,\n\u001b[1;32m    184\u001b[0m     convert_camel_case_resource_noun_to_snake_case(resource_noun): resource_name,\n\u001b[1;32m    185\u001b[0m }\n\u001b[1;32m    187\u001b[0m \u001b[39mif\u001b[39;00m parent_resource_name_fields:\n",
      "File \u001b[0;32m~/Library/Python/3.9/lib/python/site-packages/google/cloud/aiplatform/utils/__init__.py:117\u001b[0m, in \u001b[0;36mvalidate_id\u001b[0;34m(resource_id)\u001b[0m\n\u001b[1;32m    108\u001b[0m \u001b[39m\u001b[39m\u001b[39m\"\"\"Validate resource ID.\u001b[39;00m\n\u001b[1;32m    109\u001b[0m \n\u001b[1;32m    110\u001b[0m \u001b[39mArgs:\u001b[39;00m\n\u001b[0;32m   (...)\u001b[0m\n\u001b[1;32m    114\u001b[0m \n\u001b[1;32m    115\u001b[0m \u001b[39m\"\"\"\u001b[39;00m\n\u001b[1;32m    116\u001b[0m \u001b[39mif\u001b[39;00m \u001b[39mnot\u001b[39;00m RESOURCE_ID_PATTERN\u001b[39m.\u001b[39mmatch(resource_id):\n\u001b[0;32m--> 117\u001b[0m     \u001b[39mraise\u001b[39;00m \u001b[39mValueError\u001b[39;00m(\u001b[39mf\u001b[39m\u001b[39m\"\u001b[39m\u001b[39mResource \u001b[39m\u001b[39m{\u001b[39;00mresource_id\u001b[39m}\u001b[39;00m\u001b[39m is not a valid resource id.\u001b[39m\u001b[39m\"\u001b[39m)\n",
      "\u001b[0;31mValueError\u001b[0m: Resource /projects/237939871711/locations/us-central1/endpoints/1566746894976155648 is not a valid resource id."
     ]
    }
   ],
   "source": [
    "endpoint = aiplatform.Endpoint(f'/projects/pirillo-supercomputer-testing/locations/{data[\"location\"]}/endpoints/{data[\"endpoint_id\"]}')\n",
    "\n",
    "endpoint.raw_predict(bytes(data[\"sample_request\"], 'utf-8'))"
   ]
  },
  {
   "cell_type": "code",
   "execution_count": null,
   "metadata": {},
   "outputs": [],
   "source": []
  }
 ],
 "metadata": {
  "kernelspec": {
   "display_name": "Python 3",
   "language": "python",
   "name": "python3"
  },
  "language_info": {
   "codemirror_mode": {
    "name": "ipython",
    "version": 3
   },
   "file_extension": ".py",
   "mimetype": "text/x-python",
   "name": "python",
   "nbconvert_exporter": "python",
   "pygments_lexer": "ipython3",
   "version": "3.9.6"
  },
  "orig_nbformat": 4,
  "vscode": {
   "interpreter": {
    "hash": "31f2aee4e71d21fbe5cf8b01ff0e069b9275f58929596ceb00d14d90e3e16cd6"
   }
  }
 },
 "nbformat": 4,
 "nbformat_minor": 2
}
